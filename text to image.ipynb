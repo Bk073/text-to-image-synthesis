{
 "cells": [
  {
   "cell_type": "code",
   "execution_count": 2,
   "metadata": {},
   "outputs": [],
   "source": [
    "from keras.models import Model, Sequential\n",
    "from keras.layers import Input, Dense, Reshape, concatenate\n",
    "from keras.layers.core import Activation, Flatten\n",
    "from keras.layers.normalization import BatchNormalization\n",
    "from keras.layers.convolutional import UpSampling2D, Conv2D, MaxPooling2D\n",
    "from keras.optimizers import SGD\n",
    "from keras import backend as K\n",
    "import numpy as np\n",
    "from PIL import Image\n",
    "import os"
   ]
  },
  {
   "cell_type": "code",
   "execution_count": 3,
   "metadata": {},
   "outputs": [],
   "source": [
    "class DCGan(object):\n",
    "    model_name = 'gan'\n",
    "    \n",
    "    def __init__(self):\n",
    "        self.generator = None\n",
    "        self.discriminator = None\n",
    "        self.model = None\n",
    "        self.img_width = 7\n",
    "        self.img_height = 7\n",
    "        self.img_channels = 1\n",
    "        self.random_input_dim = 128\n",
    "        self.text_input_dim = 100\n",
    "    \n",
    "    def create_model(self):\n",
    "        init_img_width = self.img_width // 4\n",
    "        init_img_height = self.img_height // 4\n",
    "\n",
    "        random_input = Input(shape=(self.random_input_dim,))\n",
    "        text_input1 = Input(shape=(self.text_input_dim,))\n",
    "        random_dense = Dense(1024)(random_input)\n",
    "        text_layer1 = Dense(1024)(text_input1)\n",
    "\n",
    "        merged = concatenate([random_dense, text_layer1])\n",
    "        generator_layer = Activation('tanh')(merged)\n",
    "\n",
    "        generator_layer = Dense(128 * init_img_width * init_img_height)(generator_layer)\n",
    "        generator_layer = BatchNormalization()(generator_layer)\n",
    "        generator_layer = Activation('tanh')(generator_layer)\n",
    "        generator_layer = Reshape((init_img_width, init_img_height, 128),\n",
    "                                  input_shape=(128 * init_img_width * init_img_height,))(generator_layer)\n",
    "        generator_layer = UpSampling2D(size=(2, 2))(generator_layer)\n",
    "        generator_layer = Conv2D(64, kernel_size=5, padding='same')(generator_layer)\n",
    "        generator_layer = Activation('tanh')(generator_layer)\n",
    "        generator_layer = UpSampling2D(size=(2, 2))(generator_layer)\n",
    "        generator_layer = Conv2D(self.img_channels, kernel_size=5, padding='same')(generator_layer)\n",
    "        generator_output = Activation('tanh')(generator_layer)\n",
    "\n",
    "        self.generator = Model([random_input, text_input1], generator_output)\n",
    "\n",
    "        self.generator.compile(loss='mean_squared_error', optimizer=\"SGD\")\n",
    "\n",
    "        print('generator: ', self.generator.summary())\n",
    "\n",
    "    "
   ]
  },
  {
   "cell_type": "code",
   "execution_count": null,
   "metadata": {},
   "outputs": [],
   "source": []
  }
 ],
 "metadata": {
  "kernelspec": {
   "display_name": "Python 3",
   "language": "python",
   "name": "python3"
  },
  "language_info": {
   "codemirror_mode": {
    "name": "ipython",
    "version": 3
   },
   "file_extension": ".py",
   "mimetype": "text/x-python",
   "name": "python",
   "nbconvert_exporter": "python",
   "pygments_lexer": "ipython3",
   "version": "3.6.7"
  }
 },
 "nbformat": 4,
 "nbformat_minor": 2
}
